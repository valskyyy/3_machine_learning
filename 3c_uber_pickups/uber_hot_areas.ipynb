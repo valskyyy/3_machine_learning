{
 "cells": [
  {
   "cell_type": "code",
   "execution_count": 1,
   "metadata": {},
   "outputs": [
    {
     "name": "stdout",
     "output_type": "stream",
     "text": [
      "Requirement already satisfied: plotly in /opt/conda/lib/python3.8/site-packages (5.3.1)\n",
      "Requirement already satisfied: tenacity>=6.2.0 in /opt/conda/lib/python3.8/site-packages (from plotly) (8.0.1)\n",
      "Requirement already satisfied: six in /opt/conda/lib/python3.8/site-packages (from plotly) (1.15.0)\n"
     ]
    }
   ],
   "source": [
    "import pandas as pd\n",
    "import numpy as np\n",
    "import glob\n",
    "import os, sys\n",
    "\n",
    "from sklearn.preprocessing import StandardScaler, OneHotEncoder\n",
    "from sklearn.compose import ColumnTransformer\n",
    "from sklearn.cluster import KMeans, DBSCAN\n",
    "from sklearn.metrics import silhouette_score\n",
    "\n",
    "from tqdm import tqdm\n",
    "\n",
    "!pip install plotly\n",
    "import plotly.io as pio\n",
    "#pio.renderers.default = \"iframe_connected\"\n",
    "import plotly.express as px\n",
    "\n",
    "pio.renderers.default = \"iframe\" # to be replaced by \"iframe\" if working on JULIE"
   ]
  },
  {
   "cell_type": "code",
   "execution_count": 2,
   "metadata": {},
   "outputs": [],
   "source": [
    "files=[f for f in os.listdir(\"sources/\") if f.endswith('14.csv')]"
   ]
  },
  {
   "cell_type": "code",
   "execution_count": 3,
   "metadata": {},
   "outputs": [
    {
     "data": {
      "text/plain": [
       "['uber-raw-data-sep14.csv',\n",
       " 'uber-raw-data-may14.csv',\n",
       " 'uber-raw-data-jul14.csv',\n",
       " 'uber-raw-data-jun14.csv',\n",
       " 'uber-raw-data-aug14.csv',\n",
       " 'uber-raw-data-apr14.csv']"
      ]
     },
     "execution_count": 3,
     "metadata": {},
     "output_type": "execute_result"
    }
   ],
   "source": [
    "files"
   ]
  },
  {
   "cell_type": "code",
   "execution_count": 4,
   "metadata": {},
   "outputs": [],
   "source": [
    "df_list = []\n",
    "directory = \"sources/\"\n",
    "\n",
    "for f in files:\n",
    "    df_list.append(pd.read_csv(directory+f))"
   ]
  },
  {
   "cell_type": "code",
   "execution_count": 5,
   "metadata": {},
   "outputs": [],
   "source": [
    "df = pd.concat(df_list)"
   ]
  },
  {
   "cell_type": "code",
   "execution_count": 6,
   "metadata": {},
   "outputs": [],
   "source": [
    "df_s = df.sample(n=10000, random_state = 0)"
   ]
  },
  {
   "cell_type": "code",
   "execution_count": 7,
   "metadata": {},
   "outputs": [
    {
     "data": {
      "text/html": [
       "<div>\n",
       "<style scoped>\n",
       "    .dataframe tbody tr th:only-of-type {\n",
       "        vertical-align: middle;\n",
       "    }\n",
       "\n",
       "    .dataframe tbody tr th {\n",
       "        vertical-align: top;\n",
       "    }\n",
       "\n",
       "    .dataframe thead th {\n",
       "        text-align: right;\n",
       "    }\n",
       "</style>\n",
       "<table border=\"1\" class=\"dataframe\">\n",
       "  <thead>\n",
       "    <tr style=\"text-align: right;\">\n",
       "      <th></th>\n",
       "      <th>Date/Time</th>\n",
       "      <th>Lat</th>\n",
       "      <th>Lon</th>\n",
       "      <th>Base</th>\n",
       "    </tr>\n",
       "  </thead>\n",
       "  <tbody>\n",
       "    <tr>\n",
       "      <th>567915</th>\n",
       "      <td>5/20/2014 16:46:00</td>\n",
       "      <td>40.7555</td>\n",
       "      <td>-73.9758</td>\n",
       "      <td>B02682</td>\n",
       "    </tr>\n",
       "    <tr>\n",
       "      <th>895170</th>\n",
       "      <td>9/11/2014 12:31:00</td>\n",
       "      <td>40.7552</td>\n",
       "      <td>-73.9674</td>\n",
       "      <td>B02764</td>\n",
       "    </tr>\n",
       "    <tr>\n",
       "      <th>454935</th>\n",
       "      <td>5/5/2014 17:43:00</td>\n",
       "      <td>40.7391</td>\n",
       "      <td>-73.9869</td>\n",
       "      <td>B02682</td>\n",
       "    </tr>\n",
       "    <tr>\n",
       "      <th>316550</th>\n",
       "      <td>6/9/2014 6:25:00</td>\n",
       "      <td>40.7332</td>\n",
       "      <td>-73.9902</td>\n",
       "      <td>B02617</td>\n",
       "    </tr>\n",
       "    <tr>\n",
       "      <th>474563</th>\n",
       "      <td>8/19/2014 20:01:00</td>\n",
       "      <td>40.7200</td>\n",
       "      <td>-73.9885</td>\n",
       "      <td>B02617</td>\n",
       "    </tr>\n",
       "  </tbody>\n",
       "</table>\n",
       "</div>"
      ],
      "text/plain": [
       "                 Date/Time      Lat      Lon    Base\n",
       "567915  5/20/2014 16:46:00  40.7555 -73.9758  B02682\n",
       "895170  9/11/2014 12:31:00  40.7552 -73.9674  B02764\n",
       "454935   5/5/2014 17:43:00  40.7391 -73.9869  B02682\n",
       "316550    6/9/2014 6:25:00  40.7332 -73.9902  B02617\n",
       "474563  8/19/2014 20:01:00  40.7200 -73.9885  B02617"
      ]
     },
     "execution_count": 7,
     "metadata": {},
     "output_type": "execute_result"
    }
   ],
   "source": [
    "df_s.head()"
   ]
  },
  {
   "cell_type": "code",
   "execution_count": 8,
   "metadata": {},
   "outputs": [
    {
     "name": "stdout",
     "output_type": "stream",
     "text": [
      "Date/Time    0.0\n",
      "Lat          0.0\n",
      "Lon          0.0\n",
      "Base         0.0\n",
      "dtype: float64\n"
     ]
    }
   ],
   "source": [
    "#Check of missing values share\n",
    "print(100*df.isna().sum()/df.shape[0])"
   ]
  },
  {
   "cell_type": "code",
   "execution_count": 9,
   "metadata": {},
   "outputs": [],
   "source": [
    "df_s.rename(columns={\"Date/Time\": \"date\"}, inplace=True)\n",
    "df_s[\"date\"]= pd.to_datetime(df_s[\"date\"])\n",
    "df_s['day_of_week'] = df_s['date'].dt.dayofweek\n",
    "df_s['time_hour'] = df_s['date'].dt.hour\n",
    "df_s.drop([\"date\"], axis = 1, inplace = True)\n",
    "df_s.drop([\"Base\"], axis = 1, inplace = True)"
   ]
  },
  {
   "cell_type": "code",
   "execution_count": 10,
   "metadata": {},
   "outputs": [],
   "source": [
    "df_clustering = df_s\n",
    "\n",
    "sc = StandardScaler()\n",
    "df_clustering = sc.fit_transform(df_clustering)"
   ]
  },
  {
   "cell_type": "code",
   "execution_count": 11,
   "metadata": {},
   "outputs": [
    {
     "name": "stderr",
     "output_type": "stream",
     "text": [
      "100%|\u001b[32m██████████\u001b[0m| 19/19 [00:30<00:00,  1.61s/it]\n"
     ]
    }
   ],
   "source": [
    "wcss =  []\n",
    "k = []\n",
    "for i in tqdm(range (1,20), colour = \"green\"): \n",
    "    kmeans = KMeans(n_clusters= i, init = \"k-means++\", random_state = 0)\n",
    "    kmeans.fit(df_clustering)\n",
    "    wcss.append(kmeans.inertia_)\n",
    "    k.append(i)"
   ]
  },
  {
   "cell_type": "code",
   "execution_count": 12,
   "metadata": {},
   "outputs": [
    {
     "data": {
      "text/html": [
       "<iframe\n",
       "    scrolling=\"no\"\n",
       "    width=\"100%\"\n",
       "    height=\"545px\"\n",
       "    src=\"iframe_figures/figure_12.html\"\n",
       "    frameborder=\"0\"\n",
       "    allowfullscreen\n",
       "></iframe>\n"
      ]
     },
     "metadata": {},
     "output_type": "display_data"
    }
   ],
   "source": [
    "wcss_frame = pd.DataFrame(wcss)\n",
    "k_frame = pd.Series(k)\n",
    "fig= px.line(\n",
    "    wcss_frame,\n",
    "    x=k_frame,\n",
    "    y=wcss_frame.iloc[:,-1]\n",
    ")\n",
    "fig.update_layout(\n",
    "    yaxis_title=\"Inertia\",\n",
    "    xaxis_title=\"# Clusters\",\n",
    "    title=\"Inertia per cluster\"\n",
    ")\n",
    "fig.show(renderer=\"iframe\")"
   ]
  },
  {
   "cell_type": "code",
   "execution_count": 13,
   "metadata": {},
   "outputs": [
    {
     "name": "stderr",
     "output_type": "stream",
     "text": [
      "100%|\u001b[32m██████████\u001b[0m| 18/18 [01:09<00:00,  3.88s/it]\n"
     ]
    }
   ],
   "source": [
    "sil = []\n",
    "k = []\n",
    "for i in tqdm(range (2,20), colour = \"green\"):\n",
    "    kmeans = KMeans(n_clusters= i, init = \"k-means++\", random_state = 0)\n",
    "    kmeans.fit(df_clustering)\n",
    "    sil.append(silhouette_score(df_clustering, kmeans.predict(df_clustering)))\n",
    "    k.append(i)"
   ]
  },
  {
   "cell_type": "code",
   "execution_count": 14,
   "metadata": {},
   "outputs": [
    {
     "data": {
      "text/html": [
       "<iframe\n",
       "    scrolling=\"no\"\n",
       "    width=\"100%\"\n",
       "    height=\"545px\"\n",
       "    src=\"iframe_figures/figure_14.html\"\n",
       "    frameborder=\"0\"\n",
       "    allowfullscreen\n",
       "></iframe>\n"
      ]
     },
     "metadata": {},
     "output_type": "display_data"
    }
   ],
   "source": [
    "cluster_scores=pd.DataFrame(sil)\n",
    "k_frame = pd.Series(k)\n",
    "fig = px.bar(data_frame=cluster_scores,  \n",
    "             x=k, \n",
    "             y=cluster_scores.iloc[:, -1]\n",
    "            )\n",
    "\n",
    "fig.update_layout(\n",
    "    yaxis_title=\"Silhouette Score\",\n",
    "    xaxis_title=\"# Clusters\",\n",
    "    title=\"Silhouette Score per cluster\"\n",
    ")\n"
   ]
  },
  {
   "cell_type": "code",
   "execution_count": 15,
   "metadata": {},
   "outputs": [
    {
     "data": {
      "text/plain": [
       "KMeans(n_clusters=5, random_state=0)"
      ]
     },
     "execution_count": 15,
     "metadata": {},
     "output_type": "execute_result"
    }
   ],
   "source": [
    "kmeans = KMeans(n_clusters=5, random_state=0, init=\"k-means++\")\n",
    "kmeans.fit(df_clustering)"
   ]
  },
  {
   "cell_type": "code",
   "execution_count": 16,
   "metadata": {},
   "outputs": [],
   "source": [
    "df_s['cluster_kmeans'] = kmeans.labels_\n",
    "df_s[\"cluster_kmeans\"] = df_s[\"cluster_kmeans\"].astype(str)"
   ]
  },
  {
   "cell_type": "code",
   "execution_count": 17,
   "metadata": {},
   "outputs": [
    {
     "data": {
      "text/html": [
       "<div>\n",
       "<style scoped>\n",
       "    .dataframe tbody tr th:only-of-type {\n",
       "        vertical-align: middle;\n",
       "    }\n",
       "\n",
       "    .dataframe tbody tr th {\n",
       "        vertical-align: top;\n",
       "    }\n",
       "\n",
       "    .dataframe thead th {\n",
       "        text-align: right;\n",
       "    }\n",
       "</style>\n",
       "<table border=\"1\" class=\"dataframe\">\n",
       "  <thead>\n",
       "    <tr style=\"text-align: right;\">\n",
       "      <th></th>\n",
       "      <th>Lat</th>\n",
       "      <th>Lon</th>\n",
       "      <th>day_of_week</th>\n",
       "      <th>time_hour</th>\n",
       "      <th>cluster_kmeans</th>\n",
       "    </tr>\n",
       "  </thead>\n",
       "  <tbody>\n",
       "    <tr>\n",
       "      <th>567915</th>\n",
       "      <td>40.7555</td>\n",
       "      <td>-73.9758</td>\n",
       "      <td>1</td>\n",
       "      <td>16</td>\n",
       "      <td>0</td>\n",
       "    </tr>\n",
       "    <tr>\n",
       "      <th>895170</th>\n",
       "      <td>40.7552</td>\n",
       "      <td>-73.9674</td>\n",
       "      <td>3</td>\n",
       "      <td>12</td>\n",
       "      <td>1</td>\n",
       "    </tr>\n",
       "    <tr>\n",
       "      <th>454935</th>\n",
       "      <td>40.7391</td>\n",
       "      <td>-73.9869</td>\n",
       "      <td>0</td>\n",
       "      <td>17</td>\n",
       "      <td>0</td>\n",
       "    </tr>\n",
       "    <tr>\n",
       "      <th>316550</th>\n",
       "      <td>40.7332</td>\n",
       "      <td>-73.9902</td>\n",
       "      <td>0</td>\n",
       "      <td>6</td>\n",
       "      <td>1</td>\n",
       "    </tr>\n",
       "    <tr>\n",
       "      <th>474563</th>\n",
       "      <td>40.7200</td>\n",
       "      <td>-73.9885</td>\n",
       "      <td>1</td>\n",
       "      <td>20</td>\n",
       "      <td>0</td>\n",
       "    </tr>\n",
       "  </tbody>\n",
       "</table>\n",
       "</div>"
      ],
      "text/plain": [
       "            Lat      Lon  day_of_week  time_hour cluster_kmeans\n",
       "567915  40.7555 -73.9758            1         16              0\n",
       "895170  40.7552 -73.9674            3         12              1\n",
       "454935  40.7391 -73.9869            0         17              0\n",
       "316550  40.7332 -73.9902            0          6              1\n",
       "474563  40.7200 -73.9885            1         20              0"
      ]
     },
     "execution_count": 17,
     "metadata": {},
     "output_type": "execute_result"
    }
   ],
   "source": [
    "df_s.head()"
   ]
  },
  {
   "cell_type": "code",
   "execution_count": 18,
   "metadata": {},
   "outputs": [
    {
     "data": {
      "text/html": [
       "<iframe\n",
       "    scrolling=\"no\"\n",
       "    width=\"100%\"\n",
       "    height=\"545px\"\n",
       "    src=\"iframe_figures/figure_18.html\"\n",
       "    frameborder=\"0\"\n",
       "    allowfullscreen\n",
       "></iframe>\n"
      ]
     },
     "metadata": {},
     "output_type": "display_data"
    }
   ],
   "source": [
    "fig = px.scatter_mapbox(df_s,\n",
    "                        lat=\"Lat\",\n",
    "                        lon=\"Lon\",\n",
    "                        color=\"cluster_kmeans\",\n",
    "                        color_discrete_map={\"0\": \"rgb(0,0,0)\", \"1\": \"rgb(255,20,20)\"},\n",
    "                        opacity = 0.5,\n",
    "                        mapbox_style=\"carto-positron\",\n",
    "                        zoom=10)\n",
    "fig.show()"
   ]
  },
  {
   "cell_type": "code",
   "execution_count": 19,
   "metadata": {},
   "outputs": [],
   "source": [
    "df_s['day_of_week_name'] = df_s['day_of_week'].apply(lambda x :\n",
    "                                                      \"monday\" if x == 0 else\n",
    "                                                      \"tuesday\" if x == 1 else\n",
    "                                                      \"wednesday\" if x == 2 else\n",
    "                                                      \"Thursday\" if x == 3 else\n",
    "                                                      \"friday\" if x == 4 else\n",
    "                                                      \"saturday\" if x == 5 else\n",
    "                                                      \"sunday\")"
   ]
  },
  {
   "cell_type": "code",
   "execution_count": 20,
   "metadata": {},
   "outputs": [
    {
     "data": {
      "text/html": [
       "<iframe\n",
       "    scrolling=\"no\"\n",
       "    width=\"100%\"\n",
       "    height=\"545px\"\n",
       "    src=\"iframe_figures/figure_20.html\"\n",
       "    frameborder=\"0\"\n",
       "    allowfullscreen\n",
       "></iframe>\n"
      ]
     },
     "metadata": {},
     "output_type": "display_data"
    }
   ],
   "source": [
    "fig = px.scatter_mapbox(df_s,\n",
    "                        lat=\"Lat\",\n",
    "                        lon=\"Lon\",\n",
    "                        animation_frame = 'day_of_week_name',\n",
    "                        animation_group = 'day_of_week_name', \n",
    "                        category_orders={\"day_of_week_name\": [0,1,2,3,4,5,6]},\n",
    "                        color=\"cluster_kmeans\",\n",
    "                        color_discrete_map={\"0\": \"rgb(0,0,0)\", \"1\": \"rgb(255,20,20)\"}, \n",
    "                        mapbox_style=\"carto-positron\", zoom=10)\n",
    "fig.show()"
   ]
  },
  {
   "cell_type": "code",
   "execution_count": 21,
   "metadata": {},
   "outputs": [
    {
     "data": {
      "text/plain": [
       "DBSCAN(min_samples=150)"
      ]
     },
     "execution_count": 21,
     "metadata": {},
     "output_type": "execute_result"
    }
   ],
   "source": [
    "dbscan = DBSCAN(eps=0.5, min_samples=150)\n",
    "dbscan.fit(df_clustering)"
   ]
  },
  {
   "cell_type": "code",
   "execution_count": 22,
   "metadata": {},
   "outputs": [
    {
     "data": {
      "text/plain": [
       "array([ 0,  2,  5, ..., -1,  3, -1])"
      ]
     },
     "execution_count": 22,
     "metadata": {},
     "output_type": "execute_result"
    }
   ],
   "source": [
    "dbscan.labels_"
   ]
  },
  {
   "cell_type": "code",
   "execution_count": 23,
   "metadata": {},
   "outputs": [
    {
     "data": {
      "text/plain": [
       "array([-1,  0,  1,  2,  3,  4,  5,  6])"
      ]
     },
     "execution_count": 23,
     "metadata": {},
     "output_type": "execute_result"
    }
   ],
   "source": [
    "np.unique(dbscan.labels_)"
   ]
  },
  {
   "cell_type": "code",
   "execution_count": 24,
   "metadata": {},
   "outputs": [],
   "source": [
    "df_s[\"cluster_dbscan\"] = dbscan.labels_"
   ]
  },
  {
   "cell_type": "code",
   "execution_count": 25,
   "metadata": {},
   "outputs": [],
   "source": [
    "mask = df_s['cluster_dbscan'] >= 0\n",
    "df_s[\"cluster_dbscan\"] = df_s[\"cluster_dbscan\"].astype(str)"
   ]
  },
  {
   "cell_type": "code",
   "execution_count": 26,
   "metadata": {},
   "outputs": [
    {
     "data": {
      "text/html": [
       "<iframe\n",
       "    scrolling=\"no\"\n",
       "    width=\"100%\"\n",
       "    height=\"545px\"\n",
       "    src=\"iframe_figures/figure_26.html\"\n",
       "    frameborder=\"0\"\n",
       "    allowfullscreen\n",
       "></iframe>\n"
      ]
     },
     "metadata": {},
     "output_type": "display_data"
    }
   ],
   "source": [
    "#df_s[\"cluster_dbscan\"] = {\"Asia\", \"Europe\", \"Oceania\"}\n",
    "#group_color = {i: 'red' for i in subset}\n",
    "fig = px.scatter_mapbox(df_s.loc[mask,:],\n",
    "                        lat=\"Lat\",\n",
    "                        lon=\"Lon\",\n",
    "                        color=\"cluster_dbscan\",\n",
    "                        color_discrete_map={\"0\": \"rgb(0,0,0)\", \"1\": \"rgb(255,20,20)\"},\n",
    "                        opacity = 0.5,\n",
    "                        mapbox_style=\"carto-positron\",\n",
    "                        zoom=10)\n",
    "fig.show()"
   ]
  },
  {
   "cell_type": "code",
   "execution_count": 27,
   "metadata": {},
   "outputs": [
    {
     "data": {
      "text/html": [
       "<iframe\n",
       "    scrolling=\"no\"\n",
       "    width=\"100%\"\n",
       "    height=\"545px\"\n",
       "    src=\"iframe_figures/figure_27.html\"\n",
       "    frameborder=\"0\"\n",
       "    allowfullscreen\n",
       "></iframe>\n"
      ]
     },
     "metadata": {},
     "output_type": "display_data"
    }
   ],
   "source": [
    "fig = px.scatter_mapbox(df_s.loc[mask,:],\n",
    "                        lat=\"Lat\",\n",
    "                        lon=\"Lon\",\n",
    "                        animation_frame = 'day_of_week_name',\n",
    "                        animation_group = 'day_of_week_name', \n",
    "                        category_orders={\"day_of_week_name\": [0,1,2,3,4,5]},\n",
    "                        color=\"cluster_dbscan\",\n",
    "                        color_discrete_map={\"0\": \"rgb(0,0,0)\", \"1\": \"rgb(255,20,20)\"}, \n",
    "                        mapbox_style=\"carto-positron\", zoom=10)\n",
    "fig.show()"
   ]
  },
  {
   "cell_type": "code",
   "execution_count": 28,
   "metadata": {},
   "outputs": [],
   "source": [
    "XX = pd.read_csv('sources/uber-raw-data-janjune-15.csv')"
   ]
  },
  {
   "cell_type": "code",
   "execution_count": 29,
   "metadata": {},
   "outputs": [
    {
     "data": {
      "text/html": [
       "<div>\n",
       "<style scoped>\n",
       "    .dataframe tbody tr th:only-of-type {\n",
       "        vertical-align: middle;\n",
       "    }\n",
       "\n",
       "    .dataframe tbody tr th {\n",
       "        vertical-align: top;\n",
       "    }\n",
       "\n",
       "    .dataframe thead th {\n",
       "        text-align: right;\n",
       "    }\n",
       "</style>\n",
       "<table border=\"1\" class=\"dataframe\">\n",
       "  <thead>\n",
       "    <tr style=\"text-align: right;\">\n",
       "      <th></th>\n",
       "      <th>Dispatching_base_num</th>\n",
       "      <th>Pickup_date</th>\n",
       "      <th>Affiliated_base_num</th>\n",
       "      <th>locationID</th>\n",
       "    </tr>\n",
       "  </thead>\n",
       "  <tbody>\n",
       "    <tr>\n",
       "      <th>0</th>\n",
       "      <td>B02617</td>\n",
       "      <td>2015-05-17 09:47:00</td>\n",
       "      <td>B02617</td>\n",
       "      <td>141</td>\n",
       "    </tr>\n",
       "    <tr>\n",
       "      <th>1</th>\n",
       "      <td>B02617</td>\n",
       "      <td>2015-05-17 09:47:00</td>\n",
       "      <td>B02617</td>\n",
       "      <td>65</td>\n",
       "    </tr>\n",
       "    <tr>\n",
       "      <th>2</th>\n",
       "      <td>B02617</td>\n",
       "      <td>2015-05-17 09:47:00</td>\n",
       "      <td>B02617</td>\n",
       "      <td>100</td>\n",
       "    </tr>\n",
       "    <tr>\n",
       "      <th>3</th>\n",
       "      <td>B02617</td>\n",
       "      <td>2015-05-17 09:47:00</td>\n",
       "      <td>B02774</td>\n",
       "      <td>80</td>\n",
       "    </tr>\n",
       "    <tr>\n",
       "      <th>4</th>\n",
       "      <td>B02617</td>\n",
       "      <td>2015-05-17 09:47:00</td>\n",
       "      <td>B02617</td>\n",
       "      <td>90</td>\n",
       "    </tr>\n",
       "    <tr>\n",
       "      <th>...</th>\n",
       "      <td>...</td>\n",
       "      <td>...</td>\n",
       "      <td>...</td>\n",
       "      <td>...</td>\n",
       "    </tr>\n",
       "    <tr>\n",
       "      <th>14270474</th>\n",
       "      <td>B02765</td>\n",
       "      <td>2015-05-08 15:43:00</td>\n",
       "      <td>B02765</td>\n",
       "      <td>186</td>\n",
       "    </tr>\n",
       "    <tr>\n",
       "      <th>14270475</th>\n",
       "      <td>B02765</td>\n",
       "      <td>2015-05-08 15:43:00</td>\n",
       "      <td>B02765</td>\n",
       "      <td>263</td>\n",
       "    </tr>\n",
       "    <tr>\n",
       "      <th>14270476</th>\n",
       "      <td>B02765</td>\n",
       "      <td>2015-05-08 15:43:00</td>\n",
       "      <td>B02765</td>\n",
       "      <td>90</td>\n",
       "    </tr>\n",
       "    <tr>\n",
       "      <th>14270477</th>\n",
       "      <td>B02765</td>\n",
       "      <td>2015-05-08 15:44:00</td>\n",
       "      <td>B01899</td>\n",
       "      <td>45</td>\n",
       "    </tr>\n",
       "    <tr>\n",
       "      <th>14270478</th>\n",
       "      <td>B02765</td>\n",
       "      <td>2015-05-08 15:44:00</td>\n",
       "      <td>B02682</td>\n",
       "      <td>144</td>\n",
       "    </tr>\n",
       "  </tbody>\n",
       "</table>\n",
       "<p>14270479 rows × 4 columns</p>\n",
       "</div>"
      ],
      "text/plain": [
       "         Dispatching_base_num          Pickup_date Affiliated_base_num  \\\n",
       "0                      B02617  2015-05-17 09:47:00              B02617   \n",
       "1                      B02617  2015-05-17 09:47:00              B02617   \n",
       "2                      B02617  2015-05-17 09:47:00              B02617   \n",
       "3                      B02617  2015-05-17 09:47:00              B02774   \n",
       "4                      B02617  2015-05-17 09:47:00              B02617   \n",
       "...                       ...                  ...                 ...   \n",
       "14270474               B02765  2015-05-08 15:43:00              B02765   \n",
       "14270475               B02765  2015-05-08 15:43:00              B02765   \n",
       "14270476               B02765  2015-05-08 15:43:00              B02765   \n",
       "14270477               B02765  2015-05-08 15:44:00              B01899   \n",
       "14270478               B02765  2015-05-08 15:44:00              B02682   \n",
       "\n",
       "          locationID  \n",
       "0                141  \n",
       "1                 65  \n",
       "2                100  \n",
       "3                 80  \n",
       "4                 90  \n",
       "...              ...  \n",
       "14270474         186  \n",
       "14270475         263  \n",
       "14270476          90  \n",
       "14270477          45  \n",
       "14270478         144  \n",
       "\n",
       "[14270479 rows x 4 columns]"
      ]
     },
     "execution_count": 29,
     "metadata": {},
     "output_type": "execute_result"
    }
   ],
   "source": [
    "XX"
   ]
  },
  {
   "cell_type": "code",
   "execution_count": 30,
   "metadata": {},
   "outputs": [],
   "source": [
    "YY = pd.read_csv('sources/taxi-zone-lookup.csv')"
   ]
  },
  {
   "cell_type": "code",
   "execution_count": 31,
   "metadata": {},
   "outputs": [
    {
     "data": {
      "text/html": [
       "<div>\n",
       "<style scoped>\n",
       "    .dataframe tbody tr th:only-of-type {\n",
       "        vertical-align: middle;\n",
       "    }\n",
       "\n",
       "    .dataframe tbody tr th {\n",
       "        vertical-align: top;\n",
       "    }\n",
       "\n",
       "    .dataframe thead th {\n",
       "        text-align: right;\n",
       "    }\n",
       "</style>\n",
       "<table border=\"1\" class=\"dataframe\">\n",
       "  <thead>\n",
       "    <tr style=\"text-align: right;\">\n",
       "      <th></th>\n",
       "      <th>LocationID</th>\n",
       "      <th>Borough</th>\n",
       "      <th>Zone</th>\n",
       "    </tr>\n",
       "  </thead>\n",
       "  <tbody>\n",
       "    <tr>\n",
       "      <th>0</th>\n",
       "      <td>1</td>\n",
       "      <td>EWR</td>\n",
       "      <td>Newark Airport</td>\n",
       "    </tr>\n",
       "    <tr>\n",
       "      <th>1</th>\n",
       "      <td>2</td>\n",
       "      <td>Queens</td>\n",
       "      <td>Jamaica Bay</td>\n",
       "    </tr>\n",
       "    <tr>\n",
       "      <th>2</th>\n",
       "      <td>3</td>\n",
       "      <td>Bronx</td>\n",
       "      <td>Allerton/Pelham Gardens</td>\n",
       "    </tr>\n",
       "    <tr>\n",
       "      <th>3</th>\n",
       "      <td>4</td>\n",
       "      <td>Manhattan</td>\n",
       "      <td>Alphabet City</td>\n",
       "    </tr>\n",
       "    <tr>\n",
       "      <th>4</th>\n",
       "      <td>5</td>\n",
       "      <td>Staten Island</td>\n",
       "      <td>Arden Heights</td>\n",
       "    </tr>\n",
       "    <tr>\n",
       "      <th>...</th>\n",
       "      <td>...</td>\n",
       "      <td>...</td>\n",
       "      <td>...</td>\n",
       "    </tr>\n",
       "    <tr>\n",
       "      <th>260</th>\n",
       "      <td>261</td>\n",
       "      <td>Manhattan</td>\n",
       "      <td>World Trade Center</td>\n",
       "    </tr>\n",
       "    <tr>\n",
       "      <th>261</th>\n",
       "      <td>262</td>\n",
       "      <td>Manhattan</td>\n",
       "      <td>Yorkville East</td>\n",
       "    </tr>\n",
       "    <tr>\n",
       "      <th>262</th>\n",
       "      <td>263</td>\n",
       "      <td>Manhattan</td>\n",
       "      <td>Yorkville West</td>\n",
       "    </tr>\n",
       "    <tr>\n",
       "      <th>263</th>\n",
       "      <td>264</td>\n",
       "      <td>Unknown</td>\n",
       "      <td>Unknown</td>\n",
       "    </tr>\n",
       "    <tr>\n",
       "      <th>264</th>\n",
       "      <td>265</td>\n",
       "      <td>Unknown</td>\n",
       "      <td>Unknown</td>\n",
       "    </tr>\n",
       "  </tbody>\n",
       "</table>\n",
       "<p>265 rows × 3 columns</p>\n",
       "</div>"
      ],
      "text/plain": [
       "     LocationID        Borough                     Zone\n",
       "0             1            EWR           Newark Airport\n",
       "1             2         Queens              Jamaica Bay\n",
       "2             3          Bronx  Allerton/Pelham Gardens\n",
       "3             4      Manhattan            Alphabet City\n",
       "4             5  Staten Island            Arden Heights\n",
       "..          ...            ...                      ...\n",
       "260         261      Manhattan       World Trade Center\n",
       "261         262      Manhattan           Yorkville East\n",
       "262         263      Manhattan           Yorkville West\n",
       "263         264        Unknown                  Unknown\n",
       "264         265        Unknown                  Unknown\n",
       "\n",
       "[265 rows x 3 columns]"
      ]
     },
     "execution_count": 31,
     "metadata": {},
     "output_type": "execute_result"
    }
   ],
   "source": [
    "YY"
   ]
  },
  {
   "cell_type": "code",
   "execution_count": null,
   "metadata": {},
   "outputs": [],
   "source": []
  },
  {
   "cell_type": "code",
   "execution_count": null,
   "metadata": {},
   "outputs": [],
   "source": []
  }
 ],
 "metadata": {
  "kernelspec": {
   "display_name": "Python 3",
   "language": "python",
   "name": "python3"
  },
  "language_info": {
   "codemirror_mode": {
    "name": "ipython",
    "version": 3
   },
   "file_extension": ".py",
   "mimetype": "text/x-python",
   "name": "python",
   "nbconvert_exporter": "python",
   "pygments_lexer": "ipython3",
   "version": "3.8.6"
  }
 },
 "nbformat": 4,
 "nbformat_minor": 4
}
